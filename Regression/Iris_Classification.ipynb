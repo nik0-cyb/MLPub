{
  "nbformat": 4,
  "nbformat_minor": 0,
  "metadata": {
    "colab": {
      "name": "Iris Classification.ipynb",
      "provenance": []
    },
    "kernelspec": {
      "display_name": "Python 3",
      "language": "python",
      "name": "python3"
    },
    "language_info": {
      "codemirror_mode": {
        "name": "ipython",
        "version": 3
      },
      "file_extension": ".py",
      "mimetype": "text/x-python",
      "name": "python",
      "nbconvert_exporter": "python",
      "pygments_lexer": "ipython3",
      "version": "3.6.8"
    }
  },
  "cells": [
    {
      "cell_type": "markdown",
      "metadata": {
        "id": "tMJtOdlg8qxE"
      },
      "source": [
        "# Classification des Iris\n",
        "\n",
        "Dans cet exemple, nous allons développer quelques modèles d'apprentissage automatique afin de classifier différentes espèces d'Iris, en particulier l'iris Setosa (iris de l'Alaska), Versicolor (ou clajeux) et Virginica (de Virginie).\n",
        "\n",
        "Nous allons résoudre ce problème pas-à-pas afin de bien comprendre les différentes étapes mises en oeuvre dans l'apprentissage automatique, ainsi que certaines notions mathématiques associées.\n",
        "\n",
        "La [base données des Iris](https://en.wikipedia.org/wiki/Iris_flower_data_set) fait partie du module Python [Sci-kit learn](https://scikit-learn.org/stable/).\n",
        "\n",
        "![Iris Versicolor](images/iris_versicolor.png \"Iris Versicolor\")\n",
        "\n",
        "La base de données contient 50 échantillons de chacune des espèces d'iris mentionnées précédemment. Quatre caractéristiques ont été mesurées sur chaque échantillon : la longueur et la largeur des pétales et des sépales (en centimètres). Ces caractéristiques peuvent être utilisées pour classifier ou prédire l'espèce de l'iris.\n"
      ]
    },
    {
      "cell_type": "code",
      "metadata": {
        "id": "iFSzmzVs8qxF"
      },
      "source": [
        "from sklearn import datasets\n",
        "import matplotlib.pyplot as plt\n",
        "import math"
      ],
      "execution_count": 1,
      "outputs": []
    },
    {
      "cell_type": "markdown",
      "metadata": {
        "id": "R_ym5ascgYR9"
      },
      "source": [
        "## Chargement des données"
      ]
    },
    {
      "cell_type": "code",
      "metadata": {
        "id": "P6y8QRu88qxI"
      },
      "source": [
        "iris = datasets.load_iris()"
      ],
      "execution_count": 2,
      "outputs": []
    },
    {
      "cell_type": "code",
      "metadata": {
        "id": "Rr_zxf6x8qxJ",
        "outputId": "224b0bc3-90ec-407a-cb60-6ea85499d579",
        "colab": {
          "base_uri": "https://localhost:8080/"
        }
      },
      "source": [
        "print(iris.DESCR)"
      ],
      "execution_count": 3,
      "outputs": [
        {
          "output_type": "stream",
          "name": "stdout",
          "text": [
            ".. _iris_dataset:\n",
            "\n",
            "Iris plants dataset\n",
            "--------------------\n",
            "\n",
            "**Data Set Characteristics:**\n",
            "\n",
            "    :Number of Instances: 150 (50 in each of three classes)\n",
            "    :Number of Attributes: 4 numeric, predictive attributes and the class\n",
            "    :Attribute Information:\n",
            "        - sepal length in cm\n",
            "        - sepal width in cm\n",
            "        - petal length in cm\n",
            "        - petal width in cm\n",
            "        - class:\n",
            "                - Iris-Setosa\n",
            "                - Iris-Versicolour\n",
            "                - Iris-Virginica\n",
            "                \n",
            "    :Summary Statistics:\n",
            "\n",
            "    ============== ==== ==== ======= ===== ====================\n",
            "                    Min  Max   Mean    SD   Class Correlation\n",
            "    ============== ==== ==== ======= ===== ====================\n",
            "    sepal length:   4.3  7.9   5.84   0.83    0.7826\n",
            "    sepal width:    2.0  4.4   3.05   0.43   -0.4194\n",
            "    petal length:   1.0  6.9   3.76   1.76    0.9490  (high!)\n",
            "    petal width:    0.1  2.5   1.20   0.76    0.9565  (high!)\n",
            "    ============== ==== ==== ======= ===== ====================\n",
            "\n",
            "    :Missing Attribute Values: None\n",
            "    :Class Distribution: 33.3% for each of 3 classes.\n",
            "    :Creator: R.A. Fisher\n",
            "    :Donor: Michael Marshall (MARSHALL%PLU@io.arc.nasa.gov)\n",
            "    :Date: July, 1988\n",
            "\n",
            "The famous Iris database, first used by Sir R.A. Fisher. The dataset is taken\n",
            "from Fisher's paper. Note that it's the same as in R, but not as in the UCI\n",
            "Machine Learning Repository, which has two wrong data points.\n",
            "\n",
            "This is perhaps the best known database to be found in the\n",
            "pattern recognition literature.  Fisher's paper is a classic in the field and\n",
            "is referenced frequently to this day.  (See Duda & Hart, for example.)  The\n",
            "data set contains 3 classes of 50 instances each, where each class refers to a\n",
            "type of iris plant.  One class is linearly separable from the other 2; the\n",
            "latter are NOT linearly separable from each other.\n",
            "\n",
            "|details-start|\n",
            "**References**\n",
            "|details-split|\n",
            "\n",
            "- Fisher, R.A. \"The use of multiple measurements in taxonomic problems\"\n",
            "  Annual Eugenics, 7, Part II, 179-188 (1936); also in \"Contributions to\n",
            "  Mathematical Statistics\" (John Wiley, NY, 1950).\n",
            "- Duda, R.O., & Hart, P.E. (1973) Pattern Classification and Scene Analysis.\n",
            "  (Q327.D83) John Wiley & Sons.  ISBN 0-471-22361-1.  See page 218.\n",
            "- Dasarathy, B.V. (1980) \"Nosing Around the Neighborhood: A New System\n",
            "  Structure and Classification Rule for Recognition in Partially Exposed\n",
            "  Environments\".  IEEE Transactions on Pattern Analysis and Machine\n",
            "  Intelligence, Vol. PAMI-2, No. 1, 67-71.\n",
            "- Gates, G.W. (1972) \"The Reduced Nearest Neighbor Rule\".  IEEE Transactions\n",
            "  on Information Theory, May 1972, 431-433.\n",
            "- See also: 1988 MLC Proceedings, 54-64.  Cheeseman et al\"s AUTOCLASS II\n",
            "  conceptual clustering system finds 3 classes in the data.\n",
            "- Many, many more ...\n",
            "\n",
            "|details-end|\n"
          ]
        }
      ]
    },
    {
      "cell_type": "code",
      "metadata": {
        "id": "tOHFyZc88qxM",
        "outputId": "0b245302-12ef-44d6-acc0-c52b941e4ea1",
        "colab": {
          "base_uri": "https://localhost:8080/"
        }
      },
      "source": [
        "iris.target_names"
      ],
      "execution_count": 4,
      "outputs": [
        {
          "output_type": "execute_result",
          "data": {
            "text/plain": [
              "array(['setosa', 'versicolor', 'virginica'], dtype='<U10')"
            ]
          },
          "metadata": {},
          "execution_count": 4
        }
      ]
    },
    {
      "cell_type": "code",
      "metadata": {
        "id": "-qfS1nEd8qxO",
        "outputId": "1ed850f7-b196-4401-d661-1ddda9ff119b",
        "colab": {
          "base_uri": "https://localhost:8080/"
        }
      },
      "source": [
        "len(iris.data)"
      ],
      "execution_count": 5,
      "outputs": [
        {
          "output_type": "execute_result",
          "data": {
            "text/plain": [
              "150"
            ]
          },
          "metadata": {},
          "execution_count": 5
        }
      ]
    },
    {
      "cell_type": "code",
      "metadata": {
        "id": "jZn0FLlfArFH",
        "outputId": "e8eac67f-2cd4-436c-f092-791d337becf3",
        "colab": {
          "base_uri": "https://localhost:8080/"
        }
      },
      "source": [
        "iris.data"
      ],
      "execution_count": 6,
      "outputs": [
        {
          "output_type": "execute_result",
          "data": {
            "text/plain": [
              "array([[5.1, 3.5, 1.4, 0.2],\n",
              "       [4.9, 3. , 1.4, 0.2],\n",
              "       [4.7, 3.2, 1.3, 0.2],\n",
              "       [4.6, 3.1, 1.5, 0.2],\n",
              "       [5. , 3.6, 1.4, 0.2],\n",
              "       [5.4, 3.9, 1.7, 0.4],\n",
              "       [4.6, 3.4, 1.4, 0.3],\n",
              "       [5. , 3.4, 1.5, 0.2],\n",
              "       [4.4, 2.9, 1.4, 0.2],\n",
              "       [4.9, 3.1, 1.5, 0.1],\n",
              "       [5.4, 3.7, 1.5, 0.2],\n",
              "       [4.8, 3.4, 1.6, 0.2],\n",
              "       [4.8, 3. , 1.4, 0.1],\n",
              "       [4.3, 3. , 1.1, 0.1],\n",
              "       [5.8, 4. , 1.2, 0.2],\n",
              "       [5.7, 4.4, 1.5, 0.4],\n",
              "       [5.4, 3.9, 1.3, 0.4],\n",
              "       [5.1, 3.5, 1.4, 0.3],\n",
              "       [5.7, 3.8, 1.7, 0.3],\n",
              "       [5.1, 3.8, 1.5, 0.3],\n",
              "       [5.4, 3.4, 1.7, 0.2],\n",
              "       [5.1, 3.7, 1.5, 0.4],\n",
              "       [4.6, 3.6, 1. , 0.2],\n",
              "       [5.1, 3.3, 1.7, 0.5],\n",
              "       [4.8, 3.4, 1.9, 0.2],\n",
              "       [5. , 3. , 1.6, 0.2],\n",
              "       [5. , 3.4, 1.6, 0.4],\n",
              "       [5.2, 3.5, 1.5, 0.2],\n",
              "       [5.2, 3.4, 1.4, 0.2],\n",
              "       [4.7, 3.2, 1.6, 0.2],\n",
              "       [4.8, 3.1, 1.6, 0.2],\n",
              "       [5.4, 3.4, 1.5, 0.4],\n",
              "       [5.2, 4.1, 1.5, 0.1],\n",
              "       [5.5, 4.2, 1.4, 0.2],\n",
              "       [4.9, 3.1, 1.5, 0.2],\n",
              "       [5. , 3.2, 1.2, 0.2],\n",
              "       [5.5, 3.5, 1.3, 0.2],\n",
              "       [4.9, 3.6, 1.4, 0.1],\n",
              "       [4.4, 3. , 1.3, 0.2],\n",
              "       [5.1, 3.4, 1.5, 0.2],\n",
              "       [5. , 3.5, 1.3, 0.3],\n",
              "       [4.5, 2.3, 1.3, 0.3],\n",
              "       [4.4, 3.2, 1.3, 0.2],\n",
              "       [5. , 3.5, 1.6, 0.6],\n",
              "       [5.1, 3.8, 1.9, 0.4],\n",
              "       [4.8, 3. , 1.4, 0.3],\n",
              "       [5.1, 3.8, 1.6, 0.2],\n",
              "       [4.6, 3.2, 1.4, 0.2],\n",
              "       [5.3, 3.7, 1.5, 0.2],\n",
              "       [5. , 3.3, 1.4, 0.2],\n",
              "       [7. , 3.2, 4.7, 1.4],\n",
              "       [6.4, 3.2, 4.5, 1.5],\n",
              "       [6.9, 3.1, 4.9, 1.5],\n",
              "       [5.5, 2.3, 4. , 1.3],\n",
              "       [6.5, 2.8, 4.6, 1.5],\n",
              "       [5.7, 2.8, 4.5, 1.3],\n",
              "       [6.3, 3.3, 4.7, 1.6],\n",
              "       [4.9, 2.4, 3.3, 1. ],\n",
              "       [6.6, 2.9, 4.6, 1.3],\n",
              "       [5.2, 2.7, 3.9, 1.4],\n",
              "       [5. , 2. , 3.5, 1. ],\n",
              "       [5.9, 3. , 4.2, 1.5],\n",
              "       [6. , 2.2, 4. , 1. ],\n",
              "       [6.1, 2.9, 4.7, 1.4],\n",
              "       [5.6, 2.9, 3.6, 1.3],\n",
              "       [6.7, 3.1, 4.4, 1.4],\n",
              "       [5.6, 3. , 4.5, 1.5],\n",
              "       [5.8, 2.7, 4.1, 1. ],\n",
              "       [6.2, 2.2, 4.5, 1.5],\n",
              "       [5.6, 2.5, 3.9, 1.1],\n",
              "       [5.9, 3.2, 4.8, 1.8],\n",
              "       [6.1, 2.8, 4. , 1.3],\n",
              "       [6.3, 2.5, 4.9, 1.5],\n",
              "       [6.1, 2.8, 4.7, 1.2],\n",
              "       [6.4, 2.9, 4.3, 1.3],\n",
              "       [6.6, 3. , 4.4, 1.4],\n",
              "       [6.8, 2.8, 4.8, 1.4],\n",
              "       [6.7, 3. , 5. , 1.7],\n",
              "       [6. , 2.9, 4.5, 1.5],\n",
              "       [5.7, 2.6, 3.5, 1. ],\n",
              "       [5.5, 2.4, 3.8, 1.1],\n",
              "       [5.5, 2.4, 3.7, 1. ],\n",
              "       [5.8, 2.7, 3.9, 1.2],\n",
              "       [6. , 2.7, 5.1, 1.6],\n",
              "       [5.4, 3. , 4.5, 1.5],\n",
              "       [6. , 3.4, 4.5, 1.6],\n",
              "       [6.7, 3.1, 4.7, 1.5],\n",
              "       [6.3, 2.3, 4.4, 1.3],\n",
              "       [5.6, 3. , 4.1, 1.3],\n",
              "       [5.5, 2.5, 4. , 1.3],\n",
              "       [5.5, 2.6, 4.4, 1.2],\n",
              "       [6.1, 3. , 4.6, 1.4],\n",
              "       [5.8, 2.6, 4. , 1.2],\n",
              "       [5. , 2.3, 3.3, 1. ],\n",
              "       [5.6, 2.7, 4.2, 1.3],\n",
              "       [5.7, 3. , 4.2, 1.2],\n",
              "       [5.7, 2.9, 4.2, 1.3],\n",
              "       [6.2, 2.9, 4.3, 1.3],\n",
              "       [5.1, 2.5, 3. , 1.1],\n",
              "       [5.7, 2.8, 4.1, 1.3],\n",
              "       [6.3, 3.3, 6. , 2.5],\n",
              "       [5.8, 2.7, 5.1, 1.9],\n",
              "       [7.1, 3. , 5.9, 2.1],\n",
              "       [6.3, 2.9, 5.6, 1.8],\n",
              "       [6.5, 3. , 5.8, 2.2],\n",
              "       [7.6, 3. , 6.6, 2.1],\n",
              "       [4.9, 2.5, 4.5, 1.7],\n",
              "       [7.3, 2.9, 6.3, 1.8],\n",
              "       [6.7, 2.5, 5.8, 1.8],\n",
              "       [7.2, 3.6, 6.1, 2.5],\n",
              "       [6.5, 3.2, 5.1, 2. ],\n",
              "       [6.4, 2.7, 5.3, 1.9],\n",
              "       [6.8, 3. , 5.5, 2.1],\n",
              "       [5.7, 2.5, 5. , 2. ],\n",
              "       [5.8, 2.8, 5.1, 2.4],\n",
              "       [6.4, 3.2, 5.3, 2.3],\n",
              "       [6.5, 3. , 5.5, 1.8],\n",
              "       [7.7, 3.8, 6.7, 2.2],\n",
              "       [7.7, 2.6, 6.9, 2.3],\n",
              "       [6. , 2.2, 5. , 1.5],\n",
              "       [6.9, 3.2, 5.7, 2.3],\n",
              "       [5.6, 2.8, 4.9, 2. ],\n",
              "       [7.7, 2.8, 6.7, 2. ],\n",
              "       [6.3, 2.7, 4.9, 1.8],\n",
              "       [6.7, 3.3, 5.7, 2.1],\n",
              "       [7.2, 3.2, 6. , 1.8],\n",
              "       [6.2, 2.8, 4.8, 1.8],\n",
              "       [6.1, 3. , 4.9, 1.8],\n",
              "       [6.4, 2.8, 5.6, 2.1],\n",
              "       [7.2, 3. , 5.8, 1.6],\n",
              "       [7.4, 2.8, 6.1, 1.9],\n",
              "       [7.9, 3.8, 6.4, 2. ],\n",
              "       [6.4, 2.8, 5.6, 2.2],\n",
              "       [6.3, 2.8, 5.1, 1.5],\n",
              "       [6.1, 2.6, 5.6, 1.4],\n",
              "       [7.7, 3. , 6.1, 2.3],\n",
              "       [6.3, 3.4, 5.6, 2.4],\n",
              "       [6.4, 3.1, 5.5, 1.8],\n",
              "       [6. , 3. , 4.8, 1.8],\n",
              "       [6.9, 3.1, 5.4, 2.1],\n",
              "       [6.7, 3.1, 5.6, 2.4],\n",
              "       [6.9, 3.1, 5.1, 2.3],\n",
              "       [5.8, 2.7, 5.1, 1.9],\n",
              "       [6.8, 3.2, 5.9, 2.3],\n",
              "       [6.7, 3.3, 5.7, 2.5],\n",
              "       [6.7, 3. , 5.2, 2.3],\n",
              "       [6.3, 2.5, 5. , 1.9],\n",
              "       [6.5, 3. , 5.2, 2. ],\n",
              "       [6.2, 3.4, 5.4, 2.3],\n",
              "       [5.9, 3. , 5.1, 1.8]])"
            ]
          },
          "metadata": {},
          "execution_count": 6
        }
      ]
    },
    {
      "cell_type": "code",
      "metadata": {
        "id": "EYFImHIcBPca",
        "outputId": "48f872e1-d85f-4f17-b506-b734e27fc2f2",
        "colab": {
          "base_uri": "https://localhost:8080/"
        }
      },
      "source": [
        "iris.target"
      ],
      "execution_count": 7,
      "outputs": [
        {
          "output_type": "execute_result",
          "data": {
            "text/plain": [
              "array([0, 0, 0, 0, 0, 0, 0, 0, 0, 0, 0, 0, 0, 0, 0, 0, 0, 0, 0, 0, 0, 0,\n",
              "       0, 0, 0, 0, 0, 0, 0, 0, 0, 0, 0, 0, 0, 0, 0, 0, 0, 0, 0, 0, 0, 0,\n",
              "       0, 0, 0, 0, 0, 0, 1, 1, 1, 1, 1, 1, 1, 1, 1, 1, 1, 1, 1, 1, 1, 1,\n",
              "       1, 1, 1, 1, 1, 1, 1, 1, 1, 1, 1, 1, 1, 1, 1, 1, 1, 1, 1, 1, 1, 1,\n",
              "       1, 1, 1, 1, 1, 1, 1, 1, 1, 1, 1, 1, 2, 2, 2, 2, 2, 2, 2, 2, 2, 2,\n",
              "       2, 2, 2, 2, 2, 2, 2, 2, 2, 2, 2, 2, 2, 2, 2, 2, 2, 2, 2, 2, 2, 2,\n",
              "       2, 2, 2, 2, 2, 2, 2, 2, 2, 2, 2, 2, 2, 2, 2, 2, 2, 2])"
            ]
          },
          "metadata": {},
          "execution_count": 7
        }
      ]
    },
    {
      "cell_type": "markdown",
      "metadata": {
        "id": "Y7GbVdO08qxQ"
      },
      "source": [
        "## Affichage des longueurs et largeurs des sépales"
      ]
    },
    {
      "cell_type": "code",
      "metadata": {
        "id": "A4qfBxtj8JiP",
        "colab": {
          "base_uri": "https://localhost:8080/",
          "height": 490
        },
        "outputId": "329d058a-16f9-4a6e-91e8-952aec81295a"
      },
      "source": [
        "# Enregistrement dans la variable X des longueurs des sépales\n",
        "# et dans la variable Y des largeurs des sépales\n",
        "X = iris.data[:, 0]\n",
        "Y = iris.data[:, 1]\n",
        "\n",
        "# Les masques contenus dans le tableau iris.target vont être utlisés pour donner une couleur à chaque espèce d'iris\n",
        "Masque_Couleur = iris.target\n",
        "\n",
        "plt.scatter(X, Y, c=Masque_Couleur)\n",
        "plt.xlabel('Longueur des Sépales (cm)')\n",
        "plt.ylabel('Largeur des Sépales (cm)')\n",
        "plt.title('Distribution des dimensions des Sépales')\n"
      ],
      "execution_count": 10,
      "outputs": [
        {
          "output_type": "execute_result",
          "data": {
            "text/plain": [
              "Text(0.5, 1.0, 'Distribution des dimensions des Sépales')"
            ]
          },
          "metadata": {},
          "execution_count": 10
        },
        {
          "output_type": "display_data",
          "data": {
            "text/plain": [
              "<Figure size 640x480 with 1 Axes>"
            ],
            "image/png": "[encoded data removed]"
          },
          "metadata": {}
        }
      ]
    },
    {
      "cell_type": "code",
      "source": [
        "plt.scatter([1,1,1], [1,2,3], c=[0,1,2])"
      ],
      "metadata": {
        "id": "xA1Azi2oNk44",
        "outputId": "e47919ac-9167-47e1-f84b-2e006b32c714",
        "colab": {
          "base_uri": "https://localhost:8080/",
          "height": 447
        }
      },
      "execution_count": 11,
      "outputs": [
        {
          "output_type": "execute_result",
          "data": {
            "text/plain": [
              "<matplotlib.collections.PathCollection at 0x7a91248391b0>"
            ]
          },
          "metadata": {},
          "execution_count": 11
        },
        {
          "output_type": "display_data",
          "data": {
            "text/plain": [
              "<Figure size 640x480 with 1 Axes>"
            ],
            "image/png": "[encoded data removed]"
          },
          "metadata": {}
        }
      ]
    },
    {
      "cell_type": "markdown",
      "metadata": {
        "id": "TorOLhJj-h8s"
      },
      "source": [
        "## Affichage des longueurs et largeurs des pétales"
      ]
    },
    {
      "cell_type": "code",
      "metadata": {
        "id": "O_pbl8keDNZ7"
      },
      "source": [
        "# Code à compléter"
      ],
      "execution_count": null,
      "outputs": []
    },
    {
      "cell_type": "markdown",
      "metadata": {
        "id": "-ZBCYsK88qxS"
      },
      "source": [
        "## Modèle de Regression Logistique (Regression Logistic model)\n",
        "\n",
        "Nous allons créer un modèle qui va prédire si un échantillon appartient à une des catégories des espèces d'iris ou non.\n",
        "\n",
        "La structure de ce modèle est la suivante :\n",
        "\n",
        "![Regression logistique](images/perceptron75.png \"Perceptron\")"
      ]
    },
    {
      "cell_type": "markdown",
      "metadata": {
        "id": "5pkp1H48t-jZ"
      },
      "source": [
        "## Function Sigmoïde (Sigmoide function)\n",
        "\n",
        "La [fonction Sigmoïde](https://fr.wikipedia.org/wiki/Sigmo%C3%AFde_(math%C3%A9matiques)) est utilisée en regression logistique et dans les neurones artificiels. C'est une manière de transformer des valeurs continues en valeurs binaires. Cette fonction est également appellée \"Fonction d'activation\" dans les réseaux de neurones. De nombreux types de fonctions d'activations sont utilisés aujourd'hui."
      ]
    },
    {
      "cell_type": "code",
      "metadata": {
        "id": "So99N93VJ9Vy",
        "colab": {
          "base_uri": "https://localhost:8080/",
          "height": 313
        },
        "outputId": "b5800662-7ad0-4ab3-9a2b-576d3af7c252"
      },
      "source": [
        "def sigmoid(z):\n",
        "  return 1.0/(1 + math.exp(-z))\n",
        "\n",
        "x = [i * 0.1 for i in range(-50, 50)]\n",
        "y = [sigmoid(z) for z in x]\n",
        "plt.plot(x, y)\n",
        "plt.xlabel('x')\n",
        "plt.ylabel('y')\n",
        "plt.title('Fonction Sigmoïde')"
      ],
      "execution_count": null,
      "outputs": [
        {
          "output_type": "execute_result",
          "data": {
            "text/plain": [
              "Text(0.5, 1.0, 'Fonction Sigmoïde')"
            ]
          },
          "metadata": {
            "tags": []
          },
          "execution_count": 3
        },
        {
          "output_type": "display_data",
          "data": {
            "image/png": "[encoded data removed]",
            "text/plain": [
              "<Figure size 432x288 with 1 Axes>"
            ]
          },
          "metadata": {
            "tags": [],
            "needs_background": "light"
          }
        }
      ]
    },
    {
      "cell_type": "markdown",
      "metadata": {
        "id": "4SPj_r-Zt-jb"
      },
      "source": [
        "## Fonction de prédiction (Prediction Function)\n",
        "\n",
        "Cette fonction prend un échantillon et multiplie les caractéristiques par les poids, ajoute l'offset et passe la valeur obtenue dans la fonction Sigmoïde.\n",
        "\n",
        "Cette fonction sera utilisée pour déterminer les poids et l'offset à utliser pendant la phase d'apprentissage, ainsi que pour faire les prédictions une fois l'entrainement du modèle terminé.\n"
      ]
    },
    {
      "cell_type": "code",
      "metadata": {
        "id": "QaERzVGXIoTc"
      },
      "source": [
        "def predict(echantillon):\n",
        "  result  = 0.0\n",
        "  for i in range(len(echantillon)):\n",
        "    result = result + poids[i] * echantillon[i]\n",
        "\n",
        "  result = result + offset\n",
        "  return sigmoid(result)"
      ],
      "execution_count": null,
      "outputs": []
    },
    {
      "cell_type": "markdown",
      "metadata": {
        "id": "NNAtSCEPt-jd"
      },
      "source": [
        "## Fonctions de Perte et de Coût (Loss and Cost Functions)\n",
        "\n",
        "La fonction de perte (Loss function en Anglais) compare la valeur prédite à partir d'un échantillon (la valeur prédite est calculée par la fonction de prédiction) avec la valeur attendue (la valeur qu'on devrait trouver si la fonction de prédiction fonctionnait correctement - ce qui n'est pas le cas au débit de l'apprentissage !).\n",
        "\n",
        "Si la valeur absolue de la différence entre ce qui est prédit et ce qui est attendu est grande, la fonction de perte doit retourner une grande valeur. Inversement, si la valeur absolue de la différence entre ce qui est prédit et ce qui est attendu est faible, la fonction de perte doit retourner une faible valeur.\n",
        "\n",
        "Pour synthétiser : Plus la fonction de prédiction est mauvaise, plus les pertes sont élevées :\n",
        "\n",
        "<img src=\"https://raw.githubusercontent.com/AlexandreBourrieau/ML-F1/master/Regression/images/chaudFroid.png?token=AP4LISDJ6BO3ZNQ6P4VOGQ3B2BYBW\" width=\"500\"/>\n",
        "\n",
        "La fonction de perte n'est pas juste la valeur absolue de la différence mais est plus élaborée, afin de rendre les calculs plus rapides et l'entrainement du modèle plus simple.\n",
        "\n",
        "$$\\mathcal L(y, \\hat y) = -(y \\ln \\hat y + (1-y) \\ln (1 - \\hat y))$$\n",
        "\n",
        "$\\;\\;\\;\\;\\;\\;\\;$ $\\mathcal L$ : Pertes  \n",
        "$\\;\\;\\;\\;\\;\\;\\;$ $y$ : Valeur attendue en sortie du modèle  \n",
        "$\\;\\;\\;\\;\\;\\;\\;$ $\\hat y$ : Valeur prédite obtenue par le modèle."
      ]
    },
    {
      "cell_type": "code",
      "metadata": {
        "id": "bhN98ZwJNcnL"
      },
      "source": [
        "def pertes(y_attendu, y_predit):\n",
        "  return -(y_attendu * math.log(y_predit) + (1.0 - y_attendu) * math.log(1 - y_predit))"
      ],
      "execution_count": null,
      "outputs": []
    },
    {
      "cell_type": "markdown",
      "metadata": {
        "id": "Ru0QNMpUt-jg"
      },
      "source": [
        "Nous pouvons regarder à quoi ressemble cette fonction pour une valeur attendue fixe (ici 0.9) en fonction des valeurs prédites (ici allant de 0.1 à 1).\n",
        "\n",
        "On observe bien que les pertes diminuent lorsque la valeur prédite se rapproche la valeur attendue :"
      ]
    },
    {
      "cell_type": "code",
      "metadata": {
        "id": "89HtEbUpt-jg",
        "colab": {
          "base_uri": "https://localhost:8080/",
          "height": 313
        },
        "outputId": "848c4bbf-2316-41dc-edf1-111e7764f6d0"
      },
      "source": [
        "y_attendu = 0.9\n",
        "x = [i * 0.1 for i in range(1, 10)]\n",
        "y = [pertes(y_attendu, yp) for yp in x]\n",
        "plt.plot(x, y)\n",
        "plt.xlabel('Valeurs prédites')\n",
        "plt.ylabel('Pertes')\n",
        "plt.title('Pertes en fonction des valeurs prédites pour une valeur attendue de %0.2f' % y_attendu)"
      ],
      "execution_count": null,
      "outputs": [
        {
          "output_type": "execute_result",
          "data": {
            "text/plain": [
              "Text(0.5, 1.0, 'Pertes en fonction des valeurs prédites pour une valeur attendue de 0.90')"
            ]
          },
          "metadata": {
            "tags": []
          },
          "execution_count": 11
        },
        {
          "output_type": "display_data",
          "data": {
            "image/png": "[encoded data removed]",
            "text/plain": [
              "<Figure size 432x288 with 1 Axes>"
            ]
          },
          "metadata": {
            "tags": [],
            "needs_background": "light"
          }
        }
      ]
    },
    {
      "cell_type": "markdown",
      "metadata": {
        "id": "p9w9xQEkt-ji"
      },
      "source": [
        "La fonction de coût est la valeur moyenne des pertes pour tous les échantillons testés. Ainsi, par exemple si on a testé 10 échantillons avec les résultats suivants alors le coût sera de 0.3 :\n",
        "\n",
        "<img src=\"https://github.com/AlexandreBourrieau/ML-F1/blob/master/Regression/images/Tableau.png?raw=1\" width=\"500\"/>\n",
        "\n",
        "Mathématiquement, pour un nombre m d'échantillons testés, le coût (noté J) peut être exprimé de la manière suivante :\n",
        "\n",
        "$$\\mathcal J = \\frac{1}{m} \\sum_{i=1}^{m} \\mathcal L(y, \\hat y)$$"
      ]
    },
    {
      "cell_type": "markdown",
      "metadata": {
        "id": "hSLUEK-pt-jj"
      },
      "source": [
        "## Algorithme du Gradient (Gradient Descent Algorithm)\n",
        "\n",
        "[L'algorithme du gradient](https://fr.wikipedia.org/wiki/Algorithme_du_gradient) a pour but d'ajuster les poids et l'offset du modèle afin de minimiser le coût, et donc d'obtenir le modèle le plus juste possible. L'algorithme du gradient calcule la dérivée (gradient), c'est-à-dire la pente, de la fonction de coût pour différentes valeurs de poids et d'offsets.\n",
        "\n",
        "Les équations générales sont les suivantes :\n",
        "\n",
        "$$w_{k+1} = w_{k} - \\alpha J'(w)$$\n",
        "$$b_{k+1} = b_{k} - \\alpha J'(b)$$\n",
        "\n",
        "Avec :  \n",
        "$\\;\\;\\;\\;\\;\\;\\;$ $w_{k}$ et $b_{k}$ les valeurs courantes des poids et de l'offset  \n",
        "$\\;\\;\\;\\;\\;\\;\\;$ $w_{k+}$ et $b_{k+1}$ les valeurs de la prochaine itération.  \n",
        "$\\;\\;\\;\\;\\;\\;\\;$ $J'(w)$ la dérivée de la fonction de coût par rapport aux poids  \n",
        "$\\;\\;\\;\\;\\;\\;\\;$ $J'(b)$ la dérivée de la fonction de coût par rapport à l'offset\n",
        "\n",
        "\n",
        "Le nombre $\\alpha$ est le taux d'apprentissage qui permet de paramétrer la manière dont va s'exécuter l'algorithme. Si le taux d'apprentissage est trop petit, le modèle va mettre beaucoup de temps à s'entrainer. Si ce taux est trop grand, le modèle risque de ne jamais trouver de solution.\n",
        "\n",
        "Considérons un exemple simple :\n",
        "\n",
        "$$J(w) = w^2 + \\frac{w}{2}$$"
      ]
    },
    {
      "cell_type": "code",
      "metadata": {
        "id": "9-bXBig8t-jk",
        "colab": {
          "base_uri": "https://localhost:8080/",
          "height": 313
        },
        "outputId": "a16644ae-add2-499b-ddad-ded843d65aca"
      },
      "source": [
        "def cout(w):\n",
        "    return w**2 + w/2.0\n",
        "\n",
        "w = [i * 0.1 for i in range(-10, 11)]\n",
        "J = [cout(wi) for wi in w]\n",
        "plt.plot(w, J)\n",
        "plt.xlabel('poids w')\n",
        "plt.ylabel('Coût J')\n",
        "plt.title('Fonction Coût (J)')"
      ],
      "execution_count": null,
      "outputs": [
        {
          "output_type": "execute_result",
          "data": {
            "text/plain": [
              "Text(0.5, 1.0, 'Fonction Coût (J)')"
            ]
          },
          "metadata": {
            "tags": []
          },
          "execution_count": 5
        },
        {
          "output_type": "display_data",
          "data": {
            "image/png": "[encoded data removed]",
            "text/plain": [
              "<Figure size 432x288 with 1 Axes>"
            ]
          },
          "metadata": {
            "tags": [],
            "needs_background": "light"
          }
        }
      ]
    },
    {
      "cell_type": "markdown",
      "metadata": {
        "id": "ZaQJuoXzt-jl"
      },
      "source": [
        "La dérivée de cette fonction par rapport au poids $w$ est :\n",
        "\n",
        "$$J'(w) = 2w + 0.5$$\n",
        "\n",
        "Pour trouver le minimum avec l'algorithme du gradient, nous devons itérer cette équation :\n",
        "\n",
        "$$w_{k+1} = w_{k} - \\alpha J'(w)$$"
      ]
    },
    {
      "cell_type": "code",
      "metadata": {
        "id": "MDK0JIfst-jm"
      },
      "source": [
        "w_k = 0.0\n",
        "\n",
        "taux_apprentissage = 0.8\n",
        "\n",
        "def derive(w):\n",
        "  return 2*w + 0.5\n",
        "\n",
        "for i in range(15):\n",
        "    gradient = derive(w_k)\n",
        "    w_k = w_k - taux_apprentissage*gradient\n",
        "\n",
        "print('Minimum %0.2f, %0.2f' % (w_k, cout(w_k)))\n",
        "print('Derivée (gradient) %0.2f' % gradient)\n",
        "\n",
        "w = [i * 0.1 for i in range(-10, 11)]\n",
        "J = [cout(wi) for wi in w]\n",
        "plt.plot(w, J)\n",
        "plt.xlabel('poids w')\n",
        "plt.ylabel('coût J')\n",
        "plt.plot(w_k, cout(w_k), 'ro')\n",
        "line_x = [w_k - 0.5, w_k + 0.5]\n",
        "line_y = [gradient*(wi-w_k)+cout(w_k) for wi in line_x]\n",
        "plt.plot(line_x, line_y)\n",
        "plt.title('Fonction parabolique')"
      ],
      "execution_count": null,
      "outputs": []
    },
    {
      "cell_type": "markdown",
      "metadata": {
        "id": "AmwF2NyYt-jp"
      },
      "source": [
        "## Rétropropagation du gradient\n",
        "\n",
        "[La rétropropagation du gradient](https://fr.wikipedia.org/wiki/R%C3%A9tropropagation_du_gradient) est un algorithme très utlisé pour l'entrainement des modèles d'apprentissage automatique. Son objectif est de trouver les poids et l'offset qui minimisent les écarts entre les valeurs attendues et celles prédites par le modèle.\n",
        "\n",
        "\n",
        "On peut montrer qu'en utilsant la fonction Sigmoïde et la fonction des pertes vues précédemment, les dérivées de la fonction de coût par rapport au poids et à l'offset sont les suivantes  :  \n",
        "\n",
        "$$J'(w) = ech(\\hat y - y)$$\n",
        "$$J'(b) = \\hat y - y$$  \n",
        "$\\;\\;\\;\\;\\;\\;\\;$ ech: Valeur de l'échantillon à l'entrée du modèle  \n",
        "$\\;\\;\\;\\;\\;\\;\\;$ $y$ : Valeur attendue en sortie du modèle  \n",
        "$\\;\\;\\;\\;\\;\\;\\;$ $\\hat y$ : Valeur prédite obtenue par le modèle.\n"
      ]
    },
    {
      "cell_type": "code",
      "metadata": {
        "id": "90LurR8iP_z1"
      },
      "source": [
        "nbr_caracteristiques = 4\n",
        "\n",
        "def entrainement_sur_une_iteration(echantillons, valeurs_attendues):\n",
        "  pertes_totales = 0.0                # Initialise la somme des pertes à 0\n",
        "  dLw = [0.0] * nbr_caracteristiques  # dLw permettra de stocker les variations des pertes L par rapport aux poids w : L'(w)\n",
        "  dJw = [0.0] * nbr_caracteristiques  # dJw permettra de stocker les variations du cout par rapport aux poids w : J'(w)\n",
        "  dLb = 0.0                           # dLb permettra de stocker la variation des pertes L par rapport à l'offset b : L'(b)\n",
        "  dJb = 0.0                           # dJb permettra de stocker la variation du cout par rapport à l'offset b : J'(b)\n",
        "\n",
        "  global offset, poids\n",
        "\n",
        "  m = len(echantillons)                   # m contient le nombre d'échantillons (150)\n",
        "  for i in range(m):\n",
        "    ech = echantillons[i]                 # ech contient le i-ème échantillon : [longueur_sépale, largeur_sépale, longueur_pétale, largeur_pétale]\n",
        "    val_attendue = valeurs_attendues[i]   # val_attendue contient la valeur attendue pour cet echantillon que doit retourner le modèle (0 ou 1)\n",
        "    valeur_predite = predict(ech)         # Appel de la fonction de prédiction pour calculer la valeur prédite par le modèle sur cet échantillon\n",
        "    pertes_totales = pertes_totales + pertes(val_attendue, valeur_predite)   # Additionne les pertes de chaque échantillon afin de calculer le coût\n",
        "\n",
        "    # Pour chaque poids, on somme la variation des pertes par rapport aux poids w : sigma[L'(w)]\n",
        "    for j in range(len(poids)):\n",
        "      dLw[j] = dLw[j] + ech[j]*(valeur_predite - val_attendue)\n",
        "\n",
        "    # On somme la variation des pertes en fonction de l'offset b : sigma[L'(b)]\n",
        "    dLb = dLb + (valeur_predite - val_attendue)\n",
        "\n",
        "  cout = pertes_totales / m                 # Le coût J est la valeur moyenne des pertes sur l'ensemble des 150 échantillons\n",
        "  dJb = dLb / m                             # Calcul la variation du coût par rapport à l'offset J'(b) : Le coût est la moyenne de la variation des pertes sur l'ensemble des 150 échantillons\n",
        "  offset = offset - taux_apprentissage*dJb  # Applique l'algorithme du gradient sur l'offset : bk+1 = bk - alpha*J'(b)\n",
        "\n",
        "  for j in range(len(poids)):\n",
        "    dJw[j] = dLw[j] / m       # Calcule la variation du coût par rapport au j-ème poids J'(w)\n",
        "    poids[j] = poids[j] - taux_apprentissage*dJw[j]    # Applique l'algortithme du gradient sur le j-ème poids : wk+1 = wk - alpha*J'(w)\n",
        "\n",
        "  return cout"
      ],
      "execution_count": null,
      "outputs": []
    },
    {
      "cell_type": "markdown",
      "metadata": {
        "id": "RPtAVgMvt-jr"
      },
      "source": [
        "## Algorithme d'entrainement du modèle\n",
        "\n",
        "Cet algorithme va itérer l'algorithme de rétropopagation du gradient de nombreuses fois afin de minimiser les poids et l'offset."
      ]
    },
    {
      "cell_type": "code",
      "metadata": {
        "id": "zUeIwAvRlrYn"
      },
      "source": [
        "# Entrainement du modèle pour \"apprendre\" les valeurs optimales des poids et de l'offset\n",
        "\n",
        "poids = [0.0] * nbr_caracteristiques\n",
        "offset = 0.0\n",
        "\n",
        "taux_apprentissage = 0.1\n",
        "\n",
        "iterations = 2000\n",
        "\n",
        "echantillons_a_tester = iris.data\n",
        "valeurs_attendues_des_echantillons = [1 if y == 0 else 0 for y in iris.target]\n",
        "\n",
        "tableau_couts = []\n",
        "for epoch in range(iterations):\n",
        "  valeur_cout = entrainement_sur_une_iteration(echantillons_a_tester, valeurs_attendues_des_echantillons)\n",
        "  tableau_couts.append(valeur_cout)\n",
        "\n",
        "plt.plot(range(iterations), tableau_couts)\n",
        "plt.ylabel('Cout')\n",
        "plt.xlabel('iteration')\n",
        "plt.title('Cout en fonction des iterations')\n",
        "plt.show()"
      ],
      "execution_count": null,
      "outputs": []
    },
    {
      "cell_type": "markdown",
      "metadata": {
        "id": "0dXTIJSxt-jv"
      },
      "source": [
        "## Prédictions\n",
        "\n",
        "Le modèle ayant été entrainé, il peut maintenant être utilisé pour réaliser des prédictions.\n"
      ]
    },
    {
      "cell_type": "code",
      "metadata": {
        "id": "0YzlLmmumyD9"
      },
      "source": [
        "predictions = []\n",
        "\n",
        "m = len(echantillons_a_tester)\n",
        "correct = 0\n",
        "for i in range(m):\n",
        "  ech = echantillons_a_tester[i]\n",
        "  valeur_predite = predict(ech)\n",
        "  predictions.append(valeur_predite)\n",
        "  if valeur_predite >= 0.5:\n",
        "    valeur_predite = 1\n",
        "  else:\n",
        "    valeur_predite = 0\n",
        "  if valeur_predite == valeurs_attendues_des_echantillons[i]:\n",
        "    correct = correct + 1.0\n",
        "\n",
        "plt.plot(range(m), predictions, label='Prévisions')\n",
        "plt.plot(range(m), valeurs_attendues_des_echantillons, label='Vraies valeurs')\n",
        "plt.ylabel('Prévisions')\n",
        "plt.xlabel('Echantillon')\n",
        "plt.legend(loc='best')\n",
        "plt.show()\n",
        "\n",
        "print('Précision: %.2f %%' % (100 * correct/m))"
      ],
      "execution_count": null,
      "outputs": []
    },
    {
      "cell_type": "code",
      "metadata": {
        "id": "lH4RMMVGt-jy"
      },
      "source": [],
      "execution_count": null,
      "outputs": []
    }
  ]
}